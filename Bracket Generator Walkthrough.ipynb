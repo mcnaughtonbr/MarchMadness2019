{
 "cells": [
  {
   "cell_type": "markdown",
   "metadata": {},
   "source": [
    "# March Madness 2019 Bracket Generator Walkthrough\n",
    "## By Brian McNaughton\n",
    "##### Ad Majorem Dei Gloriam\n",
    "Let's get this perfect bracket."
   ]
  },
  {
   "cell_type": "markdown",
   "metadata": {},
   "source": [
    "Ok, first we will load the data.\n",
    "We are just using RPI rankings, Kenpom, and BPI, along with the W/L record for each team. We are going for quantity, not quality because March Madness."
   ]
  },
  {
   "cell_type": "code",
   "execution_count": 1,
   "metadata": {
    "scrolled": true
   },
   "outputs": [
    {
     "data": {
      "text/html": [
       "<div>\n",
       "<style scoped>\n",
       "    .dataframe tbody tr th:only-of-type {\n",
       "        vertical-align: middle;\n",
       "    }\n",
       "\n",
       "    .dataframe tbody tr th {\n",
       "        vertical-align: top;\n",
       "    }\n",
       "\n",
       "    .dataframe thead th {\n",
       "        text-align: right;\n",
       "    }\n",
       "</style>\n",
       "<table border=\"1\" class=\"dataframe\">\n",
       "  <thead>\n",
       "    <tr style=\"text-align: right;\">\n",
       "      <th></th>\n",
       "      <th>Team</th>\n",
       "      <th>Win</th>\n",
       "      <th>Loss</th>\n",
       "      <th>Pct</th>\n",
       "      <th>RPI</th>\n",
       "      <th>Kenpom</th>\n",
       "      <th>BPI</th>\n",
       "    </tr>\n",
       "  </thead>\n",
       "  <tbody>\n",
       "    <tr>\n",
       "      <th>0</th>\n",
       "      <td>Villanova</td>\n",
       "      <td>31</td>\n",
       "      <td>3</td>\n",
       "      <td>0.911765</td>\n",
       "      <td>1</td>\n",
       "      <td>30.78</td>\n",
       "      <td>20.7</td>\n",
       "    </tr>\n",
       "    <tr>\n",
       "      <th>1</th>\n",
       "      <td>North Carolina</td>\n",
       "      <td>27</td>\n",
       "      <td>7</td>\n",
       "      <td>0.794118</td>\n",
       "      <td>5</td>\n",
       "      <td>28.01</td>\n",
       "      <td>19.5</td>\n",
       "    </tr>\n",
       "    <tr>\n",
       "      <th>2</th>\n",
       "      <td>Kansas</td>\n",
       "      <td>28</td>\n",
       "      <td>4</td>\n",
       "      <td>0.875000</td>\n",
       "      <td>3</td>\n",
       "      <td>25.98</td>\n",
       "      <td>16.8</td>\n",
       "    </tr>\n",
       "    <tr>\n",
       "      <th>3</th>\n",
       "      <td>Gonzaga</td>\n",
       "      <td>32</td>\n",
       "      <td>1</td>\n",
       "      <td>0.969697</td>\n",
       "      <td>8</td>\n",
       "      <td>33.05</td>\n",
       "      <td>19.6</td>\n",
       "    </tr>\n",
       "    <tr>\n",
       "      <th>4</th>\n",
       "      <td>Duke</td>\n",
       "      <td>27</td>\n",
       "      <td>8</td>\n",
       "      <td>0.771429</td>\n",
       "      <td>6</td>\n",
       "      <td>25.09</td>\n",
       "      <td>18.0</td>\n",
       "    </tr>\n",
       "  </tbody>\n",
       "</table>\n",
       "</div>"
      ],
      "text/plain": [
       "             Team  Win  Loss       Pct  RPI  Kenpom   BPI\n",
       "0       Villanova   31     3  0.911765    1   30.78  20.7\n",
       "1  North Carolina   27     7  0.794118    5   28.01  19.5\n",
       "2          Kansas   28     4  0.875000    3   25.98  16.8\n",
       "3         Gonzaga   32     1  0.969697    8   33.05  19.6\n",
       "4            Duke   27     8  0.771429    6   25.09  18.0"
      ]
     },
     "execution_count": 1,
     "metadata": {},
     "output_type": "execute_result"
    }
   ],
   "source": [
    "import pandas as pd\n",
    "from pprint import pprint\n",
    "\n",
    "data_file = 'config\\TeamData.csv'\n",
    "teams_df = pd.read_csv(data_file)\n",
    "\n",
    "teams_df.head()"
   ]
  },
  {
   "cell_type": "markdown",
   "metadata": {},
   "source": [
    "Sweet, the data is there. Now let's see if we can make some power rankings of our own, and see how they look.\n",
    "\n",
    "Define your own formula here below."
   ]
  },
  {
   "cell_type": "code",
   "execution_count": 2,
   "metadata": {},
   "outputs": [],
   "source": [
    "# This formula defines the power rating for each team\n",
    "def formula1(team, win, loss, pct, RPI, Kenpom, BPI):\n",
    "    power = pct * (1/(40+RPI)) * (Kenpom/35) * BPI\n",
    "    return power"
   ]
  },
  {
   "cell_type": "markdown",
   "metadata": {},
   "source": [
    "Now run the block below to load up your formula and see the power ratings for each team."
   ]
  },
  {
   "cell_type": "code",
   "execution_count": 3,
   "metadata": {},
   "outputs": [
    {
     "name": "stdout",
     "output_type": "stream",
     "text": [
      "[('Villanova', 0.4048273417206104),\n",
      " ('Gonzaga', 0.37389899001583327),\n",
      " ('North Carolina', 0.2753924369543905),\n",
      " ('Kentucky', 0.2582733573823325),\n",
      " ('Kansas', 0.25375813953488374),\n",
      " ('Louisville', 0.22171914893617017),\n",
      " ('Duke', 0.21639290138821116),\n",
      " ('Florida', 0.19905599999999998),\n",
      " ('Oregon', 0.19318197554081865),\n",
      " ('Arizona', 0.1910924369365714)]\n"
     ]
    }
   ],
   "source": [
    "# Generate power rating for each team\n",
    "power_ratings = dict()\n",
    "for index, team in teams_df.iterrows():\n",
    "    name = team['Team']\n",
    "    power = formula1(team['Team'],team['Win'],team['Loss'],team['Pct'],team['RPI'],team['Kenpom'],team['BPI'])\n",
    "    power_ratings.update({name:power})\n",
    "\n",
    "# Print the top 10 teams to check the ratings\n",
    "top = 10\n",
    "sorted_ratings = sorted(power_ratings.items(), reverse=True, key=lambda tup: tup[1])[:top]\n",
    "pprint(sorted_ratings)    "
   ]
  },
  {
   "cell_type": "markdown",
   "metadata": {},
   "source": [
    "So now we have defined a numerical value for each team as a \"power rating\". Let's check how it plays out in a feew scenarios below. The probability is returned as the probability that team 1 will beat team 2."
   ]
  },
  {
   "cell_type": "code",
   "execution_count": 4,
   "metadata": {},
   "outputs": [],
   "source": [
    "# Returns the probability that team1 beats team2\n",
    "def prob(team1, team2):\n",
    "    return team1 / (team1+team2) * 100"
   ]
  },
  {
   "cell_type": "code",
   "execution_count": 5,
   "metadata": {},
   "outputs": [
    {
     "name": "stdout",
     "output_type": "stream",
     "text": [
      "Villanova - Gonzaga: 51.985829324392526 %\n",
      "Villanova - New Orleans: 99.99882647161587 %\n",
      "Villanova - Wisconsin: 81.71693199362981 %\n"
     ]
    }
   ],
   "source": [
    "print('Villanova - Gonzaga: ' + str(prob(power_ratings['Villanova'],power_ratings['Gonzaga'])) + ' %')\n",
    "print('Villanova - New Orleans: ' + str(prob(power_ratings['Villanova'],power_ratings['New Orleans'])) + ' %')\n",
    "print('Villanova - Wisconsin: ' + str(prob(power_ratings['Villanova'],power_ratings['Wisconsin'])) + ' %')"
   ]
  },
  {
   "cell_type": "markdown",
   "metadata": {},
   "source": [
    "Try a few matchups for yourself below if you'd like."
   ]
  },
  {
   "cell_type": "code",
   "execution_count": 6,
   "metadata": {},
   "outputs": [
    {
     "name": "stdout",
     "output_type": "stream",
     "text": [
      "Duke - Arizona: 53.10446316371195 %\n"
     ]
    }
   ],
   "source": [
    "# Change the team1 and team2 variables to try out your own matchups\n",
    "team1 = 'Duke'\n",
    "team2 = 'Arizona'\n",
    "print(team1 + ' - ' + team2 + ': ' + str(prob(power_ratings[team1],power_ratings[team2])) + ' %')"
   ]
  },
  {
   "cell_type": "markdown",
   "metadata": {},
   "source": [
    "Alright, we've got power rankings for each team, let's get on to filling out a bracket!"
   ]
  },
  {
   "cell_type": "code",
   "execution_count": 7,
   "metadata": {},
   "outputs": [
    {
     "data": {
      "text/html": [
       "<div>\n",
       "<style scoped>\n",
       "    .dataframe tbody tr th:only-of-type {\n",
       "        vertical-align: middle;\n",
       "    }\n",
       "\n",
       "    .dataframe tbody tr th {\n",
       "        vertical-align: top;\n",
       "    }\n",
       "\n",
       "    .dataframe thead th {\n",
       "        text-align: right;\n",
       "    }\n",
       "</style>\n",
       "<table border=\"1\" class=\"dataframe\">\n",
       "  <thead>\n",
       "    <tr style=\"text-align: right;\">\n",
       "      <th></th>\n",
       "      <th>Rd1</th>\n",
       "      <th>Rd2</th>\n",
       "      <th>S16</th>\n",
       "      <th>E8</th>\n",
       "      <th>FF</th>\n",
       "      <th>C</th>\n",
       "      <th>W</th>\n",
       "    </tr>\n",
       "  </thead>\n",
       "  <tbody>\n",
       "    <tr>\n",
       "      <th>0</th>\n",
       "      <td>Villanova</td>\n",
       "      <td>NaN</td>\n",
       "      <td>NaN</td>\n",
       "      <td>NaN</td>\n",
       "      <td>NaN</td>\n",
       "      <td>NaN</td>\n",
       "      <td>NaN</td>\n",
       "    </tr>\n",
       "    <tr>\n",
       "      <th>1</th>\n",
       "      <td>Mount St. Mary's</td>\n",
       "      <td>NaN</td>\n",
       "      <td>NaN</td>\n",
       "      <td>NaN</td>\n",
       "      <td>NaN</td>\n",
       "      <td>NaN</td>\n",
       "      <td>NaN</td>\n",
       "    </tr>\n",
       "    <tr>\n",
       "      <th>2</th>\n",
       "      <td>Wisconsin</td>\n",
       "      <td>NaN</td>\n",
       "      <td>NaN</td>\n",
       "      <td>NaN</td>\n",
       "      <td>NaN</td>\n",
       "      <td>NaN</td>\n",
       "      <td>NaN</td>\n",
       "    </tr>\n",
       "    <tr>\n",
       "      <th>3</th>\n",
       "      <td>Virgina Tech</td>\n",
       "      <td>NaN</td>\n",
       "      <td>NaN</td>\n",
       "      <td>NaN</td>\n",
       "      <td>NaN</td>\n",
       "      <td>NaN</td>\n",
       "      <td>NaN</td>\n",
       "    </tr>\n",
       "    <tr>\n",
       "      <th>4</th>\n",
       "      <td>Virginia</td>\n",
       "      <td>NaN</td>\n",
       "      <td>NaN</td>\n",
       "      <td>NaN</td>\n",
       "      <td>NaN</td>\n",
       "      <td>NaN</td>\n",
       "      <td>NaN</td>\n",
       "    </tr>\n",
       "  </tbody>\n",
       "</table>\n",
       "</div>"
      ],
      "text/plain": [
       "                Rd1  Rd2  S16   E8   FF    C    W\n",
       "0         Villanova  NaN  NaN  NaN  NaN  NaN  NaN\n",
       "1  Mount St. Mary's  NaN  NaN  NaN  NaN  NaN  NaN\n",
       "2         Wisconsin  NaN  NaN  NaN  NaN  NaN  NaN\n",
       "3      Virgina Tech  NaN  NaN  NaN  NaN  NaN  NaN\n",
       "4          Virginia  NaN  NaN  NaN  NaN  NaN  NaN"
      ]
     },
     "execution_count": 7,
     "metadata": {},
     "output_type": "execute_result"
    }
   ],
   "source": [
    "# First we'll set up the empty bracket\n",
    "empty_bracket_file = 'config\\EmptyBracket.csv'\n",
    "empty_bracket_df = pd.read_csv(empty_bracket_file,dtype='object')\n",
    "\n",
    "# Make a copy for manipulation\n",
    "bracket_df = empty_bracket_df.copy()\n",
    "\n",
    "empty_bracket_df.head()"
   ]
  },
  {
   "cell_type": "code",
   "execution_count": 8,
   "metadata": {},
   "outputs": [],
   "source": [
    "import random\n",
    "\n",
    "def predict_rd(rd):\n",
    "    next_rd_teams = []\n",
    "    for team in rd:\n",
    "        team1 = team\n",
    "        team2 = next(rd)\n",
    "        # print(team1 + ' - ' + team2 + ': ' + str(prob(power_ratings[team1],power_ratings[team2])) + ' %')\n",
    "        odds = prob(power_ratings[team1],power_ratings[team2])\n",
    "        rand = random.uniform(0,100)\n",
    "        if rand < odds:\n",
    "            winner = team1\n",
    "        else:\n",
    "            winner = team2  \n",
    "        next_rd_teams.append(winner)   \n",
    "        # print(odds, rand, winner)\n",
    "    return next_rd_teams\n",
    "\n",
    "def predict_bracket():\n",
    "    Rd1 = iter(empty_bracket_df['Rd1'].values)\n",
    "    Rd2_teams = predict_rd(Rd1)\n",
    "    # print(Rd2_teams)\n",
    "    Rd2 = iter(Rd2_teams)\n",
    "    S16_teams = predict_rd(Rd2)\n",
    "    # print(S16_teams)\n",
    "    S16 = iter(S16_teams)\n",
    "    E8_teams = predict_rd(S16)\n",
    "    # print(E8_teams)\n",
    "    E8 = iter(E8_teams)\n",
    "    FF_teams = predict_rd(E8)\n",
    "    # print(FF_teams)\n",
    "    FF = iter(FF_teams)\n",
    "    C_teams = predict_rd(FF)\n",
    "    # print(C_teams)\n",
    "    C = iter(C_teams)\n",
    "    W = predict_rd(C)\n",
    "    winner = ''.join(W)\n",
    "    # print(winner)\n",
    "    return Rd2_teams, S16_teams, E8_teams, FF_teams, C_teams, winner\n",
    "\n",
    "# Now we will fill out the bracket, preparing it for writing to csv\n",
    "def fill_bracket(bracket_df):\n",
    "    bracket = predict_bracket()\n",
    "    \n",
    "    Rd2 = bracket[0]\n",
    "    S16 = bracket[1]\n",
    "    E8 = bracket[2]\n",
    "    FF = bracket[3]\n",
    "    C = bracket[4]\n",
    "    winner = bracket[5]\n",
    "\n",
    "    i = 0\n",
    "    for team in Rd2:\n",
    "        bracket_df.at[i,'Rd2'] = team\n",
    "        i+=2\n",
    "    i = 0\n",
    "    for team in S16:\n",
    "        bracket_df.at[i,'S16'] = team\n",
    "        i+=4\n",
    "    i = 0\n",
    "    for team in E8:\n",
    "        bracket_df.at[i,'E8'] = team\n",
    "        i+=8\n",
    "    i = 0\n",
    "    for team in FF:\n",
    "        bracket_df.at[i,'FF'] = team\n",
    "        i+=16\n",
    "    i = 0\n",
    "    for team in C:\n",
    "        bracket_df.at[i,'C'] = team\n",
    "        i+=32\n",
    "    bracket_df.at[0,'W'] = winner\n",
    "    \n",
    "    return bracket_df\n",
    "\n",
    "bracket_df = fill_bracket(bracket_df)\n",
    "\n",
    "# pprint(bracket_df)"
   ]
  },
  {
   "cell_type": "markdown",
   "metadata": {},
   "source": [
    "Our bracket prediction is made! Now let's export it to a csv file to store it."
   ]
  },
  {
   "cell_type": "code",
   "execution_count": 9,
   "metadata": {},
   "outputs": [],
   "source": [
    "formula1_2018_1_csv = bracket_df.to_csv (r'C:\\Users\\Brian\\Documents\\MarchMadness2019\\formula1_2018_1.csv', index = None, header=True)"
   ]
  },
  {
   "cell_type": "markdown",
   "metadata": {},
   "source": [
    "Let's make a few of these brackets just to get the hang of mass producing brackets."
   ]
  },
  {
   "cell_type": "code",
   "execution_count": 10,
   "metadata": {},
   "outputs": [
    {
     "name": "stdout",
     "output_type": "stream",
     "text": [
      "Successfully completed\n"
     ]
    }
   ],
   "source": [
    "for i in range(1,6):\n",
    "    filename = r'C:\\Users\\Brian\\Documents\\MarchMadness2019\\brackets\\formula1_2018_' + str(i) + '.csv'\n",
    "    bracket_df = fill_bracket(bracket_df)\n",
    "    write_csv = bracket_df.to_csv (filename, index = None, header=True)\n",
    "print('Successfully completed')"
   ]
  },
  {
   "cell_type": "markdown",
   "metadata": {},
   "source": [
    "Well, what are you waiting for? Check the path you saved your csv files to!"
   ]
  },
  {
   "cell_type": "markdown",
   "metadata": {},
   "source": [
    "### That's it! Feel free to modify to your liking and generate as many brackets as you want to store! "
   ]
  }
 ],
 "metadata": {
  "kernelspec": {
   "display_name": "Python 3",
   "language": "python",
   "name": "python3"
  },
  "language_info": {
   "codemirror_mode": {
    "name": "ipython",
    "version": 3
   },
   "file_extension": ".py",
   "mimetype": "text/x-python",
   "name": "python",
   "nbconvert_exporter": "python",
   "pygments_lexer": "ipython3",
   "version": "3.6.6"
  }
 },
 "nbformat": 4,
 "nbformat_minor": 2
}
